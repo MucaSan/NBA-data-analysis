{
 "cells": [
  {
   "cell_type": "markdown",
   "id": "10a3196a",
   "metadata": {},
   "source": [
    "# Data analysis of the points along with the years"
   ]
  },
  {
   "cell_type": "code",
   "execution_count": 2,
   "id": "5dff202e",
   "metadata": {},
   "outputs": [],
   "source": [
    "import numpy as np\n",
    "import matplotlib.pyplot as plt\n",
    "import seaborn as sns\n",
    "import pandas as pd"
   ]
  },
  {
   "cell_type": "code",
   "execution_count": 3,
   "id": "a4af4d75",
   "metadata": {},
   "outputs": [
    {
     "data": {
      "text/html": [
       "<div>\n",
       "<style scoped>\n",
       "    .dataframe tbody tr th:only-of-type {\n",
       "        vertical-align: middle;\n",
       "    }\n",
       "\n",
       "    .dataframe tbody tr th {\n",
       "        vertical-align: top;\n",
       "    }\n",
       "\n",
       "    .dataframe thead th {\n",
       "        text-align: right;\n",
       "    }\n",
       "</style>\n",
       "<table border=\"1\" class=\"dataframe\">\n",
       "  <thead>\n",
       "    <tr style=\"text-align: right;\">\n",
       "      <th></th>\n",
       "      <th>League</th>\n",
       "      <th>Season</th>\n",
       "      <th>Stage</th>\n",
       "      <th>Player</th>\n",
       "      <th>Team</th>\n",
       "      <th>GP</th>\n",
       "      <th>MIN</th>\n",
       "      <th>FGM</th>\n",
       "      <th>FGA</th>\n",
       "      <th>3PM</th>\n",
       "      <th>...</th>\n",
       "      <th>PTS</th>\n",
       "      <th>birth_year</th>\n",
       "      <th>birth_month</th>\n",
       "      <th>birth_date</th>\n",
       "      <th>height</th>\n",
       "      <th>height_cm</th>\n",
       "      <th>weight</th>\n",
       "      <th>weight_kg</th>\n",
       "      <th>nationality</th>\n",
       "      <th>high_school</th>\n",
       "    </tr>\n",
       "  </thead>\n",
       "  <tbody>\n",
       "    <tr>\n",
       "      <th>0</th>\n",
       "      <td>NBA</td>\n",
       "      <td>2009 - 2010</td>\n",
       "      <td>Regular_Season</td>\n",
       "      <td>Kevin Durant</td>\n",
       "      <td>OKC</td>\n",
       "      <td>82</td>\n",
       "      <td>3239.3</td>\n",
       "      <td>794</td>\n",
       "      <td>1668</td>\n",
       "      <td>128</td>\n",
       "      <td>...</td>\n",
       "      <td>2472</td>\n",
       "      <td>1988.0</td>\n",
       "      <td>Sep</td>\n",
       "      <td>Sep 29, 1988</td>\n",
       "      <td>6-9</td>\n",
       "      <td>206.0</td>\n",
       "      <td>240.0</td>\n",
       "      <td>109.0</td>\n",
       "      <td>United States</td>\n",
       "      <td>Montrose Christian School</td>\n",
       "    </tr>\n",
       "    <tr>\n",
       "      <th>1</th>\n",
       "      <td>NBA</td>\n",
       "      <td>2009 - 2010</td>\n",
       "      <td>Regular_Season</td>\n",
       "      <td>LeBron James</td>\n",
       "      <td>CLE</td>\n",
       "      <td>76</td>\n",
       "      <td>2965.6</td>\n",
       "      <td>768</td>\n",
       "      <td>1528</td>\n",
       "      <td>129</td>\n",
       "      <td>...</td>\n",
       "      <td>2258</td>\n",
       "      <td>1984.0</td>\n",
       "      <td>Dec</td>\n",
       "      <td>Dec 30, 1984</td>\n",
       "      <td>6-8</td>\n",
       "      <td>203.0</td>\n",
       "      <td>250.0</td>\n",
       "      <td>113.0</td>\n",
       "      <td>United States</td>\n",
       "      <td>St. Vincent St. Mary High School</td>\n",
       "    </tr>\n",
       "    <tr>\n",
       "      <th>2</th>\n",
       "      <td>NBA</td>\n",
       "      <td>2009 - 2010</td>\n",
       "      <td>Regular_Season</td>\n",
       "      <td>Dwyane Wade</td>\n",
       "      <td>MIA</td>\n",
       "      <td>77</td>\n",
       "      <td>2792.4</td>\n",
       "      <td>719</td>\n",
       "      <td>1511</td>\n",
       "      <td>73</td>\n",
       "      <td>...</td>\n",
       "      <td>2045</td>\n",
       "      <td>1982.0</td>\n",
       "      <td>Jan</td>\n",
       "      <td>Jan 17, 1982</td>\n",
       "      <td>6-4</td>\n",
       "      <td>193.0</td>\n",
       "      <td>220.0</td>\n",
       "      <td>100.0</td>\n",
       "      <td>United States</td>\n",
       "      <td>Harold L. Richards High School</td>\n",
       "    </tr>\n",
       "    <tr>\n",
       "      <th>3</th>\n",
       "      <td>NBA</td>\n",
       "      <td>2009 - 2010</td>\n",
       "      <td>Regular_Season</td>\n",
       "      <td>Dirk Nowitzki</td>\n",
       "      <td>DAL</td>\n",
       "      <td>81</td>\n",
       "      <td>3038.8</td>\n",
       "      <td>720</td>\n",
       "      <td>1496</td>\n",
       "      <td>51</td>\n",
       "      <td>...</td>\n",
       "      <td>2027</td>\n",
       "      <td>1978.0</td>\n",
       "      <td>Jun</td>\n",
       "      <td>Jun 19, 1978</td>\n",
       "      <td>7-0</td>\n",
       "      <td>213.0</td>\n",
       "      <td>245.0</td>\n",
       "      <td>111.0</td>\n",
       "      <td>Germany</td>\n",
       "      <td>NaN</td>\n",
       "    </tr>\n",
       "    <tr>\n",
       "      <th>4</th>\n",
       "      <td>NBA</td>\n",
       "      <td>2009 - 2010</td>\n",
       "      <td>Regular_Season</td>\n",
       "      <td>Kobe Bryant</td>\n",
       "      <td>LAL</td>\n",
       "      <td>73</td>\n",
       "      <td>2835.4</td>\n",
       "      <td>716</td>\n",
       "      <td>1569</td>\n",
       "      <td>99</td>\n",
       "      <td>...</td>\n",
       "      <td>1970</td>\n",
       "      <td>1978.0</td>\n",
       "      <td>Aug</td>\n",
       "      <td>Aug 23, 1978</td>\n",
       "      <td>6-6</td>\n",
       "      <td>198.0</td>\n",
       "      <td>212.0</td>\n",
       "      <td>96.0</td>\n",
       "      <td>United States</td>\n",
       "      <td>Lower Merion High School</td>\n",
       "    </tr>\n",
       "  </tbody>\n",
       "</table>\n",
       "<p>5 rows × 31 columns</p>\n",
       "</div>"
      ],
      "text/plain": [
       "  League       Season           Stage         Player Team  GP     MIN  FGM  \\\n",
       "0    NBA  2009 - 2010  Regular_Season   Kevin Durant  OKC  82  3239.3  794   \n",
       "1    NBA  2009 - 2010  Regular_Season   LeBron James  CLE  76  2965.6  768   \n",
       "2    NBA  2009 - 2010  Regular_Season    Dwyane Wade  MIA  77  2792.4  719   \n",
       "3    NBA  2009 - 2010  Regular_Season  Dirk Nowitzki  DAL  81  3038.8  720   \n",
       "4    NBA  2009 - 2010  Regular_Season    Kobe Bryant  LAL  73  2835.4  716   \n",
       "\n",
       "    FGA  3PM  ...   PTS  birth_year  birth_month    birth_date  height  \\\n",
       "0  1668  128  ...  2472      1988.0          Sep  Sep 29, 1988     6-9   \n",
       "1  1528  129  ...  2258      1984.0          Dec  Dec 30, 1984     6-8   \n",
       "2  1511   73  ...  2045      1982.0          Jan  Jan 17, 1982     6-4   \n",
       "3  1496   51  ...  2027      1978.0          Jun  Jun 19, 1978     7-0   \n",
       "4  1569   99  ...  1970      1978.0          Aug  Aug 23, 1978     6-6   \n",
       "\n",
       "   height_cm  weight  weight_kg    nationality  \\\n",
       "0      206.0   240.0      109.0  United States   \n",
       "1      203.0   250.0      113.0  United States   \n",
       "2      193.0   220.0      100.0  United States   \n",
       "3      213.0   245.0      111.0        Germany   \n",
       "4      198.0   212.0       96.0  United States   \n",
       "\n",
       "                        high_school  \n",
       "0         Montrose Christian School  \n",
       "1  St. Vincent St. Mary High School  \n",
       "2    Harold L. Richards High School  \n",
       "3                               NaN  \n",
       "4          Lower Merion High School  \n",
       "\n",
       "[5 rows x 31 columns]"
      ]
     },
     "execution_count": 3,
     "metadata": {},
     "output_type": "execute_result"
    }
   ],
   "source": [
    "df = pd.read_csv('players_stats_by_season_full_details.csv')\n",
    "df.head()"
   ]
  },
  {
   "cell_type": "code",
   "execution_count": 29,
   "id": "96a73a63",
   "metadata": {},
   "outputs": [
    {
     "name": "stdout",
     "output_type": "stream",
     "text": [
      "<class 'pandas.core.frame.DataFrame'>\n",
      "RangeIndex: 36950 entries, 0 to 36949\n",
      "Data columns (total 31 columns):\n",
      " #   Column       Non-Null Count  Dtype  \n",
      "---  ------       --------------  -----  \n",
      " 0   League       36950 non-null  object \n",
      " 1   Season       36950 non-null  object \n",
      " 2   Stage        36950 non-null  object \n",
      " 3   Player       36950 non-null  object \n",
      " 4   Team         36950 non-null  object \n",
      " 5   GP           36950 non-null  int64  \n",
      " 6   MIN          36950 non-null  float64\n",
      " 7   FGM          36950 non-null  int64  \n",
      " 8   FGA          36950 non-null  int64  \n",
      " 9   3PM          36950 non-null  int64  \n",
      " 10  3PA          36950 non-null  int64  \n",
      " 11  FTM          36950 non-null  int64  \n",
      " 12  FTA          36950 non-null  int64  \n",
      " 13  TOV          36950 non-null  int64  \n",
      " 14  PF           36950 non-null  int64  \n",
      " 15  ORB          36950 non-null  int64  \n",
      " 16  DRB          36950 non-null  int64  \n",
      " 17  REB          36950 non-null  int64  \n",
      " 18  AST          36950 non-null  int64  \n",
      " 19  STL          36950 non-null  int64  \n",
      " 20  BLK          36950 non-null  int64  \n",
      " 21  PTS          36950 non-null  int64  \n",
      " 22  birth_year   36774 non-null  float64\n",
      " 23  birth_month  36774 non-null  object \n",
      " 24  birth_date   36774 non-null  object \n",
      " 25  height       36912 non-null  object \n",
      " 26  height_cm    36912 non-null  float64\n",
      " 27  weight       33919 non-null  float64\n",
      " 28  weight_kg    33919 non-null  float64\n",
      " 29  nationality  36947 non-null  object \n",
      " 30  high_school  15518 non-null  object \n",
      "dtypes: float64(5), int64(16), object(10)\n",
      "memory usage: 8.7+ MB\n"
     ]
    }
   ],
   "source": [
    "db = df[df['League'] == 'NBA']\n",
    "df.info()"
   ]
  },
  {
   "cell_type": "markdown",
   "id": "a8a4550e",
   "metadata": {},
   "source": [
    "### First all, to compare all the variables with the points on the graphic, we must get the max value on the dataframe of 'db' with the sum of all the points of the dataframe. Getting the sums, we could create an array with all the values from season 2009 to 2019."
   ]
  },
  {
   "cell_type": "code",
   "execution_count": 21,
   "id": "5b8b1509",
   "metadata": {},
   "outputs": [
    {
     "data": {
      "text/html": [
       "<div>\n",
       "<style scoped>\n",
       "    .dataframe tbody tr th:only-of-type {\n",
       "        vertical-align: middle;\n",
       "    }\n",
       "\n",
       "    .dataframe tbody tr th {\n",
       "        vertical-align: top;\n",
       "    }\n",
       "\n",
       "    .dataframe thead th {\n",
       "        text-align: right;\n",
       "    }\n",
       "</style>\n",
       "<table border=\"1\" class=\"dataframe\">\n",
       "  <thead>\n",
       "    <tr style=\"text-align: right;\">\n",
       "      <th></th>\n",
       "      <th>Season_Year</th>\n",
       "      <th>Total_Points</th>\n",
       "    </tr>\n",
       "  </thead>\n",
       "  <tbody>\n",
       "    <tr>\n",
       "      <th>0</th>\n",
       "      <td>2009 - 2010</td>\n",
       "      <td>203083</td>\n",
       "    </tr>\n",
       "    <tr>\n",
       "      <th>1</th>\n",
       "      <td>2010 - 2011</td>\n",
       "      <td>193550</td>\n",
       "    </tr>\n",
       "    <tr>\n",
       "      <th>2</th>\n",
       "      <td>2011 - 2012</td>\n",
       "      <td>161018</td>\n",
       "    </tr>\n",
       "    <tr>\n",
       "      <th>3</th>\n",
       "      <td>2012 - 2013</td>\n",
       "      <td>200446</td>\n",
       "    </tr>\n",
       "    <tr>\n",
       "      <th>4</th>\n",
       "      <td>2013 - 2014</td>\n",
       "      <td>203969</td>\n",
       "    </tr>\n",
       "    <tr>\n",
       "      <th>5</th>\n",
       "      <td>2014 - 2015</td>\n",
       "      <td>185465</td>\n",
       "    </tr>\n",
       "    <tr>\n",
       "      <th>6</th>\n",
       "      <td>2015 - 2016</td>\n",
       "      <td>188246</td>\n",
       "    </tr>\n",
       "    <tr>\n",
       "      <th>7</th>\n",
       "      <td>2016 - 2017</td>\n",
       "      <td>242838</td>\n",
       "    </tr>\n",
       "    <tr>\n",
       "      <th>8</th>\n",
       "      <td>2017 - 2018</td>\n",
       "      <td>237757</td>\n",
       "    </tr>\n",
       "    <tr>\n",
       "      <th>9</th>\n",
       "      <td>2018 - 2019</td>\n",
       "      <td>253551</td>\n",
       "    </tr>\n",
       "  </tbody>\n",
       "</table>\n",
       "</div>"
      ],
      "text/plain": [
       "   Season_Year  Total_Points\n",
       "0  2009 - 2010        203083\n",
       "1  2010 - 2011        193550\n",
       "2  2011 - 2012        161018\n",
       "3  2012 - 2013        200446\n",
       "4  2013 - 2014        203969\n",
       "5  2014 - 2015        185465\n",
       "6  2015 - 2016        188246\n",
       "7  2016 - 2017        242838\n",
       "8  2017 - 2018        237757\n",
       "9  2018 - 2019        253551"
      ]
     },
     "execution_count": 21,
     "metadata": {},
     "output_type": "execute_result"
    }
   ],
   "source": [
    "arr_pts_seasons=[]\n",
    "for i in db['Season'].unique():\n",
    "    arr_pts_seasons.append(db[db['Season'] == i]['PTS'].sum())\n",
    "df1 = pd.DataFrame({'Season_Year':db['Season'].unique(), 'Total_Points': arr_pts_seasons})\n",
    "df1"
   ]
  },
  {
   "cell_type": "code",
   "execution_count": 22,
   "id": "0d266cb0",
   "metadata": {
    "scrolled": true
   },
   "outputs": [
    {
     "data": {
      "image/png": "[encoded data removed]",
      "text/plain": [
       "<Figure size 640x480 with 1 Axes>"
      ]
     },
     "metadata": {},
     "output_type": "display_data"
    }
   ],
   "source": [
    "plt.plot(df1['Season_Year'], df1['Total_Points'], 'r')\n",
    "plt.xlabel('Season_Year')\n",
    "plt.ylabel('Total_Points')\n",
    "plt.show()"
   ]
  },
  {
   "cell_type": "markdown",
   "id": "a3e7f70c",
   "metadata": {},
   "source": [
    "### The rise of the number of total points increased by the time, getting the max value on the last year. So, in order to further understand the data, let us analyze the top scores of the maximum and the minimum total_points of the given year."
   ]
  },
  {
   "cell_type": "code",
   "execution_count": 25,
   "id": "93047656",
   "metadata": {},
   "outputs": [
    {
     "data": {
      "text/html": [
       "<div>\n",
       "<style scoped>\n",
       "    .dataframe tbody tr th:only-of-type {\n",
       "        vertical-align: middle;\n",
       "    }\n",
       "\n",
       "    .dataframe tbody tr th {\n",
       "        vertical-align: top;\n",
       "    }\n",
       "\n",
       "    .dataframe thead th {\n",
       "        text-align: right;\n",
       "    }\n",
       "</style>\n",
       "<table border=\"1\" class=\"dataframe\">\n",
       "  <thead>\n",
       "    <tr style=\"text-align: right;\">\n",
       "      <th></th>\n",
       "      <th>PTS</th>\n",
       "      <th>Player</th>\n",
       "    </tr>\n",
       "  </thead>\n",
       "  <tbody>\n",
       "    <tr>\n",
       "      <th>402</th>\n",
       "      <td>1850</td>\n",
       "      <td>Kevin Durant</td>\n",
       "    </tr>\n",
       "    <tr>\n",
       "      <th>403</th>\n",
       "      <td>1683</td>\n",
       "      <td>LeBron James</td>\n",
       "    </tr>\n",
       "    <tr>\n",
       "      <th>404</th>\n",
       "      <td>1616</td>\n",
       "      <td>Kobe Bryant</td>\n",
       "    </tr>\n",
       "    <tr>\n",
       "      <th>405</th>\n",
       "      <td>1558</td>\n",
       "      <td>Russell Westbrook</td>\n",
       "    </tr>\n",
       "    <tr>\n",
       "      <th>406</th>\n",
       "      <td>1432</td>\n",
       "      <td>Kevin Love</td>\n",
       "    </tr>\n",
       "  </tbody>\n",
       "</table>\n",
       "</div>"
      ],
      "text/plain": [
       "      PTS             Player\n",
       "402  1850       Kevin Durant\n",
       "403  1683       LeBron James\n",
       "404  1616        Kobe Bryant\n",
       "405  1558  Russell Westbrook\n",
       "406  1432         Kevin Love"
      ]
     },
     "execution_count": 25,
     "metadata": {},
     "output_type": "execute_result"
    }
   ],
   "source": [
    "## min total points\n",
    "db[db['Season'] == '2011 - 2012'][['PTS', 'Player']].nlargest(n = 5, columns = 'PTS')"
   ]
  },
  {
   "cell_type": "code",
   "execution_count": 26,
   "id": "331da323",
   "metadata": {},
   "outputs": [
    {
     "data": {
      "text/html": [
       "<div>\n",
       "<style scoped>\n",
       "    .dataframe tbody tr th:only-of-type {\n",
       "        vertical-align: middle;\n",
       "    }\n",
       "\n",
       "    .dataframe tbody tr th {\n",
       "        vertical-align: top;\n",
       "    }\n",
       "\n",
       "    .dataframe thead th {\n",
       "        text-align: right;\n",
       "    }\n",
       "</style>\n",
       "<table border=\"1\" class=\"dataframe\">\n",
       "  <thead>\n",
       "    <tr style=\"text-align: right;\">\n",
       "      <th></th>\n",
       "      <th>PTS</th>\n",
       "      <th>Player</th>\n",
       "    </tr>\n",
       "  </thead>\n",
       "  <tbody>\n",
       "    <tr>\n",
       "      <th>2034</th>\n",
       "      <td>2818</td>\n",
       "      <td>James Harden</td>\n",
       "    </tr>\n",
       "    <tr>\n",
       "      <th>2035</th>\n",
       "      <td>2159</td>\n",
       "      <td>Paul George</td>\n",
       "    </tr>\n",
       "    <tr>\n",
       "      <th>2036</th>\n",
       "      <td>2102</td>\n",
       "      <td>Kemba Walker</td>\n",
       "    </tr>\n",
       "    <tr>\n",
       "      <th>2037</th>\n",
       "      <td>2099</td>\n",
       "      <td>Bradley Beal</td>\n",
       "    </tr>\n",
       "    <tr>\n",
       "      <th>2038</th>\n",
       "      <td>2067</td>\n",
       "      <td>Damian Lillard</td>\n",
       "    </tr>\n",
       "  </tbody>\n",
       "</table>\n",
       "</div>"
      ],
      "text/plain": [
       "       PTS          Player\n",
       "2034  2818    James Harden\n",
       "2035  2159     Paul George\n",
       "2036  2102    Kemba Walker\n",
       "2037  2099    Bradley Beal\n",
       "2038  2067  Damian Lillard"
      ]
     },
     "execution_count": 26,
     "metadata": {},
     "output_type": "execute_result"
    }
   ],
   "source": [
    "## max total points\n",
    "db[db['Season'] == '2018 - 2019'][['PTS', 'Player']].nlargest(n = 5, columns = 'PTS')"
   ]
  },
  {
   "cell_type": "markdown",
   "id": "53004ddc",
   "metadata": {},
   "source": [
    "### As we can see, all of the players of the season  2018-2019 defeat the players of 2011-2012. Seeing through some media, they shared that this happens due to the change of how players got used to 3-Pointers. We could check that, adding more one attribute to the min and max values."
   ]
  },
  {
   "cell_type": "code",
   "execution_count": 27,
   "id": "9d7a80e8",
   "metadata": {},
   "outputs": [
    {
     "data": {
      "text/html": [
       "<div>\n",
       "<style scoped>\n",
       "    .dataframe tbody tr th:only-of-type {\n",
       "        vertical-align: middle;\n",
       "    }\n",
       "\n",
       "    .dataframe tbody tr th {\n",
       "        vertical-align: top;\n",
       "    }\n",
       "\n",
       "    .dataframe thead th {\n",
       "        text-align: right;\n",
       "    }\n",
       "</style>\n",
       "<table border=\"1\" class=\"dataframe\">\n",
       "  <thead>\n",
       "    <tr style=\"text-align: right;\">\n",
       "      <th></th>\n",
       "      <th>PTS</th>\n",
       "      <th>Player</th>\n",
       "      <th>3PM</th>\n",
       "    </tr>\n",
       "  </thead>\n",
       "  <tbody>\n",
       "    <tr>\n",
       "      <th>402</th>\n",
       "      <td>1850</td>\n",
       "      <td>Kevin Durant</td>\n",
       "      <td>133</td>\n",
       "    </tr>\n",
       "    <tr>\n",
       "      <th>403</th>\n",
       "      <td>1683</td>\n",
       "      <td>LeBron James</td>\n",
       "      <td>54</td>\n",
       "    </tr>\n",
       "    <tr>\n",
       "      <th>404</th>\n",
       "      <td>1616</td>\n",
       "      <td>Kobe Bryant</td>\n",
       "      <td>87</td>\n",
       "    </tr>\n",
       "    <tr>\n",
       "      <th>405</th>\n",
       "      <td>1558</td>\n",
       "      <td>Russell Westbrook</td>\n",
       "      <td>62</td>\n",
       "    </tr>\n",
       "    <tr>\n",
       "      <th>406</th>\n",
       "      <td>1432</td>\n",
       "      <td>Kevin Love</td>\n",
       "      <td>105</td>\n",
       "    </tr>\n",
       "  </tbody>\n",
       "</table>\n",
       "</div>"
      ],
      "text/plain": [
       "      PTS             Player  3PM\n",
       "402  1850       Kevin Durant  133\n",
       "403  1683       LeBron James   54\n",
       "404  1616        Kobe Bryant   87\n",
       "405  1558  Russell Westbrook   62\n",
       "406  1432         Kevin Love  105"
      ]
     },
     "execution_count": 27,
     "metadata": {},
     "output_type": "execute_result"
    }
   ],
   "source": [
    "## min value observation: it doesn't feel the need to satisfy both points and 3-pointer made condiction, it only implies the value\n",
    "## of the top scorer, just showing his 3 points made, doesn't mean he is the one that has made more 3 points\n",
    "db[db['Season'] == '2011 - 2012'][['PTS', 'Player', '3PM']].nlargest(n = 5, columns = 'PTS')"
   ]
  },
  {
   "cell_type": "code",
   "execution_count": 28,
   "id": "39c846cf",
   "metadata": {},
   "outputs": [
    {
     "data": {
      "text/html": [
       "<div>\n",
       "<style scoped>\n",
       "    .dataframe tbody tr th:only-of-type {\n",
       "        vertical-align: middle;\n",
       "    }\n",
       "\n",
       "    .dataframe tbody tr th {\n",
       "        vertical-align: top;\n",
       "    }\n",
       "\n",
       "    .dataframe thead th {\n",
       "        text-align: right;\n",
       "    }\n",
       "</style>\n",
       "<table border=\"1\" class=\"dataframe\">\n",
       "  <thead>\n",
       "    <tr style=\"text-align: right;\">\n",
       "      <th></th>\n",
       "      <th>PTS</th>\n",
       "      <th>Player</th>\n",
       "      <th>3PM</th>\n",
       "    </tr>\n",
       "  </thead>\n",
       "  <tbody>\n",
       "    <tr>\n",
       "      <th>2034</th>\n",
       "      <td>2818</td>\n",
       "      <td>James Harden</td>\n",
       "      <td>378</td>\n",
       "    </tr>\n",
       "    <tr>\n",
       "      <th>2035</th>\n",
       "      <td>2159</td>\n",
       "      <td>Paul George</td>\n",
       "      <td>292</td>\n",
       "    </tr>\n",
       "    <tr>\n",
       "      <th>2036</th>\n",
       "      <td>2102</td>\n",
       "      <td>Kemba Walker</td>\n",
       "      <td>260</td>\n",
       "    </tr>\n",
       "    <tr>\n",
       "      <th>2037</th>\n",
       "      <td>2099</td>\n",
       "      <td>Bradley Beal</td>\n",
       "      <td>209</td>\n",
       "    </tr>\n",
       "    <tr>\n",
       "      <th>2038</th>\n",
       "      <td>2067</td>\n",
       "      <td>Damian Lillard</td>\n",
       "      <td>237</td>\n",
       "    </tr>\n",
       "  </tbody>\n",
       "</table>\n",
       "</div>"
      ],
      "text/plain": [
       "       PTS          Player  3PM\n",
       "2034  2818    James Harden  378\n",
       "2035  2159     Paul George  292\n",
       "2036  2102    Kemba Walker  260\n",
       "2037  2099    Bradley Beal  209\n",
       "2038  2067  Damian Lillard  237"
      ]
     },
     "execution_count": 28,
     "metadata": {},
     "output_type": "execute_result"
    }
   ],
   "source": [
    "## max value\n",
    "db[db['Season'] == '2018 - 2019'][['PTS', 'Player', '3PM']].nlargest(n = 5, columns = 'PTS')"
   ]
  },
  {
   "cell_type": "markdown",
   "id": "232a884c",
   "metadata": {},
   "source": [
    "### To ensure our theory, we could check it by a density diagram, of each point representating the 3-points attempted by a given season year. "
   ]
  },
  {
   "cell_type": "code",
   "execution_count": 38,
   "id": "c237d6d8",
   "metadata": {},
   "outputs": [
    {
     "data": {
      "text/plain": [
       "<seaborn.axisgrid.JointGrid at 0x19451775460>"
      ]
     },
     "execution_count": 38,
     "metadata": {},
     "output_type": "execute_result"
    },
    {
     "data": {
      "text/plain": [
       "<Figure size 10000x10000 with 0 Axes>"
      ]
     },
     "metadata": {},
     "output_type": "display_data"
    },
    {
     "data": {
      "image/png": "[encoded data removed]",
      "text/plain": [
       "<Figure size 600x600 with 3 Axes>"
      ]
     },
     "metadata": {},
     "output_type": "display_data"
    }
   ],
   "source": [
    "plt.figure(figsize=(100,100))\n",
    "sns.jointplot(data=db, x = 'Season', y= '3PA', color = 'green')"
   ]
  },
  {
   "cell_type": "code",
   "execution_count": 40,
   "id": "c0d8915a",
   "metadata": {},
   "outputs": [
    {
     "data": {
      "text/plain": [
       "<seaborn.axisgrid.FacetGrid at 0x19450b03610>"
      ]
     },
     "execution_count": 40,
     "metadata": {},
     "output_type": "execute_result"
    },
    {
     "data": {
      "image/png": "[encoded data removed]",
      "text/plain": [
       "<Figure size 500x500 with 1 Axes>"
      ]
     },
     "metadata": {},
     "output_type": "display_data"
    }
   ],
   "source": [
    "sns.displot(x = db[db['Season'] == '2011 - 2012']['3PA'])"
   ]
  },
  {
   "cell_type": "code",
   "execution_count": 41,
   "id": "0cf46492",
   "metadata": {
    "scrolled": true
   },
   "outputs": [
    {
     "data": {
      "text/plain": [
       "<seaborn.axisgrid.FacetGrid at 0x19451775430>"
      ]
     },
     "execution_count": 41,
     "metadata": {},
     "output_type": "execute_result"
    },
    {
     "data": {
      "image/png": "[encoded data removed]",
      "text/plain": [
       "<Figure size 500x500 with 1 Axes>"
      ]
     },
     "metadata": {},
     "output_type": "display_data"
    }
   ],
   "source": [
    "sns.displot(x = db[db['Season'] == '2018 - 2019']['3PA'])"
   ]
  },
  {
   "cell_type": "code",
   "execution_count": 50,
   "id": "af9919c2",
   "metadata": {},
   "outputs": [
    {
     "data": {
      "text/plain": [
       "-0.2933745171237272"
      ]
     },
     "execution_count": 50,
     "metadata": {},
     "output_type": "execute_result"
    }
   ],
   "source": [
    "## we can see that the correlation of 3-point making increases with the decrease of the weight. so, for example:\n",
    "## there's a higher rate for a person with 80kg to score a 3 pointer than another with 100kg\n",
    "db['weight_kg'].corr(db['3PM'])"
   ]
  },
  {
   "cell_type": "code",
   "execution_count": 52,
   "id": "8d438ef2",
   "metadata": {},
   "outputs": [
    {
     "data": {
      "text/plain": [
       "Index(['League', 'Season', 'Stage', 'Player', 'Team', 'GP', 'MIN', 'FGM',\n",
       "       'FGA', '3PM', '3PA', 'FTM', 'FTA', 'TOV', 'PF', 'ORB', 'DRB', 'REB',\n",
       "       'AST', 'STL', 'BLK', 'PTS', 'birth_year', 'birth_month', 'birth_date',\n",
       "       'height', 'height_cm', 'weight', 'weight_kg', 'nationality',\n",
       "       'high_school'],\n",
       "      dtype='object')"
      ]
     },
     "execution_count": 52,
     "metadata": {},
     "output_type": "execute_result"
    }
   ],
   "source": [
    "db.keys()"
   ]
  },
  {
   "cell_type": "code",
   "execution_count": 93,
   "id": "7fac47d9",
   "metadata": {},
   "outputs": [
    {
     "data": {
      "text/html": [
       "<div>\n",
       "<style scoped>\n",
       "    .dataframe tbody tr th:only-of-type {\n",
       "        vertical-align: middle;\n",
       "    }\n",
       "\n",
       "    .dataframe tbody tr th {\n",
       "        vertical-align: top;\n",
       "    }\n",
       "\n",
       "    .dataframe thead th {\n",
       "        text-align: right;\n",
       "    }\n",
       "</style>\n",
       "<table border=\"1\" class=\"dataframe\">\n",
       "  <thead>\n",
       "    <tr style=\"text-align: right;\">\n",
       "      <th></th>\n",
       "      <th>0</th>\n",
       "      <th>1</th>\n",
       "      <th>2</th>\n",
       "      <th>3</th>\n",
       "      <th>4</th>\n",
       "      <th>5</th>\n",
       "      <th>6</th>\n",
       "      <th>7</th>\n",
       "      <th>8</th>\n",
       "      <th>9</th>\n",
       "      <th>10</th>\n",
       "      <th>11</th>\n",
       "      <th>12</th>\n",
       "      <th>13</th>\n",
       "      <th>14</th>\n",
       "      <th>15</th>\n",
       "      <th>16</th>\n",
       "    </tr>\n",
       "  </thead>\n",
       "  <tbody>\n",
       "    <tr>\n",
       "      <th>0</th>\n",
       "      <td>GP</td>\n",
       "      <td>MIN</td>\n",
       "      <td>FGM</td>\n",
       "      <td>FGA</td>\n",
       "      <td>3PM</td>\n",
       "      <td>3PA</td>\n",
       "      <td>FTM</td>\n",
       "      <td>FTA</td>\n",
       "      <td>TOV</td>\n",
       "      <td>PF</td>\n",
       "      <td>ORB</td>\n",
       "      <td>DRB</td>\n",
       "      <td>REB</td>\n",
       "      <td>AST</td>\n",
       "      <td>STL</td>\n",
       "      <td>BLK</td>\n",
       "      <td>PTS</td>\n",
       "    </tr>\n",
       "    <tr>\n",
       "      <th>1</th>\n",
       "      <td>0.740315</td>\n",
       "      <td>0.919918</td>\n",
       "      <td>0.992727</td>\n",
       "      <td>0.989662</td>\n",
       "      <td>0.566723</td>\n",
       "      <td>0.598481</td>\n",
       "      <td>0.927879</td>\n",
       "      <td>0.922814</td>\n",
       "      <td>0.888821</td>\n",
       "      <td>0.738071</td>\n",
       "      <td>0.545276</td>\n",
       "      <td>0.783847</td>\n",
       "      <td>0.736072</td>\n",
       "      <td>0.6839</td>\n",
       "      <td>0.802818</td>\n",
       "      <td>0.422966</td>\n",
       "      <td>1.0</td>\n",
       "    </tr>\n",
       "    <tr>\n",
       "      <th>2</th>\n",
       "      <td>0.734995</td>\n",
       "      <td>0.904491</td>\n",
       "      <td>0.992567</td>\n",
       "      <td>0.989514</td>\n",
       "      <td>0.750781</td>\n",
       "      <td>0.769337</td>\n",
       "      <td>0.917448</td>\n",
       "      <td>0.911269</td>\n",
       "      <td>0.914974</td>\n",
       "      <td>0.76417</td>\n",
       "      <td>0.519867</td>\n",
       "      <td>0.788933</td>\n",
       "      <td>0.743061</td>\n",
       "      <td>0.784834</td>\n",
       "      <td>0.780348</td>\n",
       "      <td>0.500209</td>\n",
       "      <td>1.0</td>\n",
       "    </tr>\n",
       "  </tbody>\n",
       "</table>\n",
       "</div>"
      ],
      "text/plain": [
       "         0         1         2         3         4         5         6   \\\n",
       "0        GP       MIN       FGM       FGA       3PM       3PA       FTM   \n",
       "1  0.740315  0.919918  0.992727  0.989662  0.566723  0.598481  0.927879   \n",
       "2  0.734995  0.904491  0.992567  0.989514  0.750781  0.769337  0.917448   \n",
       "\n",
       "         7         8         9         10        11        12        13  \\\n",
       "0       FTA       TOV        PF       ORB       DRB       REB       AST   \n",
       "1  0.922814  0.888821  0.738071  0.545276  0.783847  0.736072    0.6839   \n",
       "2  0.911269  0.914974   0.76417  0.519867  0.788933  0.743061  0.784834   \n",
       "\n",
       "         14        15   16  \n",
       "0       STL       BLK  PTS  \n",
       "1  0.802818  0.422966  1.0  \n",
       "2  0.780348  0.500209  1.0  "
      ]
     },
     "execution_count": 93,
     "metadata": {},
     "output_type": "execute_result"
    }
   ],
   "source": [
    "## let's create two dataframes, getting the correlations of each value for db of season 2011-2012, and 2018-2019, with number\n",
    "##of points.\n",
    "arr_to_corr1 = []\n",
    "arr_to_corr2 = []\n",
    "for i in range(17):\n",
    "    arr_to_corr1.append(db[db['Season'] == '2011 - 2012'][db.keys()[i+5]].corr(db['PTS']))\n",
    "for j in range(17):\n",
    "    arr_to_corr2.append(db[db['Season'] == '2018 - 2019'][db.keys()[j+5]].corr(db['PTS']))\n",
    "arr_to_corr1\n",
    "arr_to_corr2\n",
    "ds_keys = pd.Series(db.keys()[5:22])\n",
    "ds1 = pd.Series(arr_to_corr1)\n",
    "ds2 = pd.Series(arr_to_corr2)\n",
    "df3 = pd.DataFrame([ds_keys, ds1, ds2])\n",
    "df3"
   ]
  },
  {
   "cell_type": "markdown",
   "id": "055c1852",
   "metadata": {},
   "source": [
    "### Now that we have the analysis of each element, taking a mean of both arrays, we'll get the highest correlation, and thefore, the highest probability of a highest number of points. To go even deeper, we could also take the standard deviation of each array, implying that the one with a smaller change of factors, has the highest mean."
   ]
  },
  {
   "cell_type": "code",
   "execution_count": 95,
   "id": "ec1cca8a",
   "metadata": {},
   "outputs": [
    {
     "data": {
      "text/plain": [
       "0.7800171355383109"
      ]
     },
     "execution_count": 95,
     "metadata": {},
     "output_type": "execute_result"
    }
   ],
   "source": [
    "np.mean(arr_to_corr1)"
   ]
  },
  {
   "cell_type": "code",
   "execution_count": 96,
   "id": "0920882a",
   "metadata": {},
   "outputs": [
    {
     "data": {
      "text/plain": [
       "0.8098115496220821"
      ]
     },
     "execution_count": 96,
     "metadata": {},
     "output_type": "execute_result"
    }
   ],
   "source": [
    "np.mean(arr_to_corr2)"
   ]
  },
  {
   "cell_type": "code",
   "execution_count": 97,
   "id": "c86cd6b7",
   "metadata": {},
   "outputs": [
    {
     "data": {
      "text/plain": [
       "0.1693121594595315"
      ]
     },
     "execution_count": 97,
     "metadata": {},
     "output_type": "execute_result"
    }
   ],
   "source": [
    "np.std(arr_to_corr1)"
   ]
  },
  {
   "cell_type": "code",
   "execution_count": 98,
   "id": "6deace9f",
   "metadata": {},
   "outputs": [
    {
     "data": {
      "text/plain": [
       "0.14201822470647343"
      ]
     },
     "execution_count": 98,
     "metadata": {},
     "output_type": "execute_result"
    }
   ],
   "source": [
    "np.std(arr_to_corr2)"
   ]
  },
  {
   "cell_type": "markdown",
   "id": "5a959857",
   "metadata": {},
   "source": [
    "#### This ends the data analysis for points, we found the different scenarios of why the Season 2018-2019 has the highest number of points, due to a change of how players play, attempting more than the double of tries for 3 points. Also, the influx of stats of 2018-2019 made it easier to achieve such a high number of points. "
   ]
  },
  {
   "cell_type": "code",
   "execution_count": null,
   "id": "e567ec92",
   "metadata": {},
   "outputs": [],
   "source": []
  }
 ],
 "metadata": {
  "kernelspec": {
   "display_name": "Python 3 (ipykernel)",
   "language": "python",
   "name": "python3"
  },
  "language_info": {
   "codemirror_mode": {
    "name": "ipython",
    "version": 3
   },
   "file_extension": ".py",
   "mimetype": "text/x-python",
   "name": "python",
   "nbconvert_exporter": "python",
   "pygments_lexer": "ipython3",
   "version": "3.9.13"
  }
 },
 "nbformat": 4,
 "nbformat_minor": 5
}
